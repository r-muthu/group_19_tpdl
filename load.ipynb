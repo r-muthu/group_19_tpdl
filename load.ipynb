{
 "cells": [
  {
   "cell_type": "markdown",
   "id": "ceaaadb0",
   "metadata": {},
   "source": [
    "### Use this notebook to load and test a model\n",
    "### Install required packages"
   ]
  },
  {
   "cell_type": "code",
   "execution_count": null,
   "id": "1ad0d614",
   "metadata": {},
   "outputs": [],
   "source": [
    "!pip install matplotlib pandas torch torchmetrics scikit-learn"
   ]
  },
  {
   "cell_type": "markdown",
   "id": "d78805aa",
   "metadata": {},
   "source": [
    "### Import all libraries and models"
   ]
  },
  {
   "cell_type": "code",
   "execution_count": null,
   "id": "2be0c4a8",
   "metadata": {},
   "outputs": [],
   "source": [
    "# Matplotlib\n",
    "import matplotlib.pyplot as plt\n",
    "from matplotlib.lines import Line2D\n",
    "# Numpy\n",
    "import numpy as np\n",
    "# Pandas\n",
    "import pandas as pd\n",
    "# Torch\n",
    "import torch\n",
    "import torch.nn as nn\n",
    "import json\n",
    "from torch.utils.data import Dataset, DataLoader\n",
    "from torchmetrics.classification import Accuracy\n",
    "from models import ResNet50, ResNet50BiLSTMAttention, ResNet34BiLSTMAttention\n",
    "\n",
    "import torch.optim as optim\n",
    "\n",
    "import pickle\n",
    "import random\n",
    "from sklearn.model_selection import train_test_split\n",
    "import os\n",
    "\n",
    "#Implemented seeding \n",
    "def seed_functions(seed):\n",
    "\t\"\"\"Seeds functions from numpy and torch.\"\"\"\n",
    "\tnp.random.seed(seed)\n",
    "\trandom.seed(seed)\n",
    "\ttorch.manual_seed(seed)\n",
    "\ttorch.cuda.manual_seed(seed)\n",
    "\ttorch.cuda.manual_seed_all(seed)\n",
    "\ttorch.backends.cudnn.benchmark = False\n",
    "\ttorch.backends.cudnn.deterministic = True\n",
    "\tos.environ['PYTHONHASHSEED'] = str(seed)\n",
    "\n",
    "SEED = 37\n",
    "seed_functions(SEED)"
   ]
  },
  {
   "cell_type": "markdown",
   "id": "787d10a5",
   "metadata": {},
   "source": [
    "### Helper function to load and test best model (no changes needed)"
   ]
  },
  {
   "cell_type": "code",
   "execution_count": null,
   "id": "db6de815",
   "metadata": {},
   "outputs": [],
   "source": [
    "def load_best_model_and_test(model_dir, model, test_loader, num_classes):\n",
    "    device = torch.device(\"cuda\" if torch.cuda.is_available() else \"cpu\")\n",
    "    model.to(device)\n",
    "    model.eval()\n",
    "\n",
    "    # Load model checkpoint\n",
    "    with open(os.path.join(model_dir, \"best_model.pkl\"), \"rb\") as f:\n",
    "        saved_data = pickle.load(f)\n",
    "        model.load_state_dict(saved_data[\"model_state\"])\n",
    "        print(f\"Best Model Achieved at Epoch: {saved_data['epoch']} with Validation Loss: {saved_data['val_loss']:.4f}\")\n",
    "    \n",
    "    # Setup accuracy metric\n",
    "    accuracy_metric = Accuracy(task=\"multiclass\", num_classes=num_classes).to(device)\n",
    "\n",
    "    total_loss = 0.0\n",
    "    criterion = torch.nn.CrossEntropyLoss()\n",
    "\n",
    "    with torch.no_grad():\n",
    "        for inputs, targets in test_loader:\n",
    "            inputs, targets = inputs.to(device), targets.to(device)\n",
    "            outputs = model(inputs)\n",
    "            loss = criterion(outputs, targets)\n",
    "            total_loss += loss.item()\n",
    "            accuracy_metric.update(outputs, targets)\n",
    "\n",
    "    avg_loss = total_loss / len(test_loader)\n",
    "    test_accuracy = accuracy_metric.compute().item()\n",
    "    print(f\"Test Loss: {avg_loss:.4f}, Test Accuracy: {test_accuracy:.4f}\")"
   ]
  },
  {
   "cell_type": "markdown",
   "id": "6c30d60d",
   "metadata": {},
   "source": [
    "### Load and test ResNet34BiLSTMAttention"
   ]
  },
  {
   "cell_type": "code",
   "execution_count": null,
   "id": "7e133680",
   "metadata": {},
   "outputs": [],
   "source": [
    "model_dir = \"checkpoints/ResNet34BiLSTMAttentionlr0001\"\n",
    "model = ResNet34BiLSTMAttention(classes=num_languages)\n",
    "load_best_model_and_test(model_dir, model, test_loader, num_classes=num_languages)"
   ]
  },
  {
   "cell_type": "markdown",
   "id": "7d86da2d",
   "metadata": {},
   "source": [
    "### Load and test ResNet50BiLSTMAttention"
   ]
  },
  {
   "cell_type": "code",
   "execution_count": null,
   "id": "f84fdec3",
   "metadata": {},
   "outputs": [],
   "source": [
    "model_dir = \"checkpoints/ResNet50BiLSTMAttentionlr0001\"\n",
    "model = ResNet50BiLSTMAttention(classes=num_languages)\n",
    "load_best_model_and_test(model_dir, model, test_loader, num_classes=num_languages)"
   ]
  },
  {
   "cell_type": "markdown",
   "id": "e6de0361",
   "metadata": {},
   "source": [
    "### Load and test ResNet50"
   ]
  },
  {
   "cell_type": "code",
   "execution_count": null,
   "id": "a323e8cd",
   "metadata": {},
   "outputs": [],
   "source": [
    "model_dir = \"checkpoints/ResNet500001\"\n",
    "model = ResNet50(classes=num_languages)\n",
    "load_best_model_and_test(model_dir, model, test_loader, num_classes=num_languages)"
   ]
  }
 ],
 "metadata": {
  "language_info": {
   "name": "python"
  }
 },
 "nbformat": 4,
 "nbformat_minor": 5
}
